{
 "cells": [
  {
   "cell_type": "code",
   "execution_count": 1,
   "metadata": {},
   "outputs": [],
   "source": [
    "import glob\n",
    "import os\n",
    "from IPython.display import display, Markdown\n",
    "from tqdm import tqdm\n",
    "from ipywidgets import FloatSlider, IntSlider\n",
    "from ipywidgets import interact, interactive, fixed, interact_manual\n",
    "import ipywidgets as widgets"
   ]
  },
  {
   "cell_type": "code",
   "execution_count": 2,
   "metadata": {},
   "outputs": [],
   "source": [
    "import cv2\n",
    "import matplotlib.pyplot as plt\n",
    "import matplotlib.patches as mpatches\n",
    "import numpy as np\n",
    "from skimage.filters import threshold_otsu\n",
    "from skimage import measure\n",
    "from skimage import morphology\n",
    "from skimage.color import label2rgb\n",
    "from skimage.measure import regionprops\n",
    "from skimage.draw import circle\n",
    "from skimage.filters import gaussian\n",
    "from skimage.segmentation import clear_border"
   ]
  },
  {
   "cell_type": "code",
   "execution_count": 3,
   "metadata": {},
   "outputs": [],
   "source": [
    "PATH = \"carta-laboral-images/\"\n",
    "images = (glob.glob(PATH + \"*.png\") + glob.glob(PATH + \"*.jpg\") + glob.glob(PATH + \"*.jpeg\"))\n",
    "images.sort()"
   ]
  },
  {
   "cell_type": "code",
   "execution_count": 4,
   "metadata": {},
   "outputs": [],
   "source": [
    "def get_a4_constant(blobs_labels, min_area):\n",
    "\n",
    "    total_area = 0\n",
    "    counter = 0\n",
    "    for region in regionprops(blobs_labels):\n",
    "\n",
    "        if region.area > min_area:\n",
    "            total_area = total_area + region.area\n",
    "            counter = counter + 1\n",
    "\n",
    "    average = (total_area / counter)\n",
    "    a4_constant = ((average / 84.0) * 250.0) + 100\n",
    "    \n",
    "    return a4_constant"
   ]
  },
  {
   "cell_type": "code",
   "execution_count": 5,
   "metadata": {},
   "outputs": [
    {
     "data": {
      "application/vnd.jupyter.widget-view+json": {
       "model_id": "23accda6f6a043948387d288be02d8d2",
       "version_major": 2,
       "version_minor": 0
      },
      "text/plain": [
       "interactive(children=(Dropdown(description='image', options=('carta-laboral-images/1-0.png', 'carta-laboral-im…"
      ]
     },
     "metadata": {},
     "output_type": "display_data"
    }
   ],
   "source": [
    "@interact\n",
    "def segment_image(image = images,\n",
    "                  th1=200,\n",
    "                  min_area=300\n",
    "                  ):\n",
    "    \n",
    "    img = cv2.imread(f'{image}', 0)\n",
    "    \n",
    "    original = cv2.imread(f'{image}')\n",
    "\n",
    "    img = cv2.threshold(img, th1, 255, cv2.THRESH_BINARY)[1]\n",
    "\n",
    "    open_img = morphology.opening(img, morphology.square(3))\n",
    "\n",
    "    gaussian_img = gaussian(open_img)\n",
    "\n",
    "    blobs = gaussian_img > gaussian_img.mean()\n",
    "\n",
    "    blobs_labels = measure.label(blobs, background=1)\n",
    "\n",
    "    a4_constant = get_a4_constant(blobs_labels, min_area)\n",
    "\n",
    "    b = morphology.remove_small_objects(blobs_labels, a4_constant)\n",
    "    \n",
    "    image_label_overlay = label2rgb(b, image=original, bg_label=0)\n",
    "    \n",
    "    plt.figure(figsize=(40,20))\n",
    "    \n",
    "    plt.imshow(image_label_overlay)\n",
    "\n",
    "    plt.show()"
   ]
  },
  {
   "cell_type": "code",
   "execution_count": null,
   "metadata": {},
   "outputs": [],
   "source": []
  }
 ],
 "metadata": {
  "kernelspec": {
   "display_name": "Python 3",
   "language": "python",
   "name": "python3"
  },
  "language_info": {
   "codemirror_mode": {
    "name": "ipython",
    "version": 3
   },
   "file_extension": ".py",
   "mimetype": "text/x-python",
   "name": "python",
   "nbconvert_exporter": "python",
   "pygments_lexer": "ipython3",
   "version": "3.7.3"
  }
 },
 "nbformat": 4,
 "nbformat_minor": 2
}
